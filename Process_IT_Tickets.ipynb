{
 "cells": [
  {
   "cell_type": "code",
   "execution_count": 1,
   "metadata": {
    "collapsed": false
   },
   "outputs": [
    {
     "name": "stderr",
     "output_type": "stream",
     "text": [
      "Using TensorFlow backend.\n"
     ]
    }
   ],
   "source": [
    "import numpy as np # linear algebra\n",
    "from keras.preprocessing.text import text_to_word_sequence\n"
   ]
  },
  {
   "cell_type": "code",
   "execution_count": 2,
   "metadata": {
    "collapsed": false
   },
   "outputs": [],
   "source": [
    "# load preprocessed word dictionary.\n",
    "wordsList = np.load('wordIndex_all.npy')\n",
    "wordsList = wordsList.tolist() #Originally loaded as numpy array\n",
    "\n",
    "# load data file to be classified\n",
    "data_path = \"/home/wangjin/Download_Data/\"\n",
    "\n",
    "fname = data_path + \"incidents_sentiment.idx\"\n",
    "\n",
    "fname2 = data_path + \"incidents_sentiment2.idx\""
   ]
  },
  {
   "cell_type": "code",
   "execution_count": 3,
   "metadata": {
    "collapsed": true
   },
   "outputs": [],
   "source": [
    "# Reverse from integers to words using the DICTIONARY\n",
    "reverse_word_index = dict(\n",
    "[(value, key) for (key, value) in wordsList.items()])\n",
    "\n",
    "# parse doc id and messages from idx file\n",
    "def parseDocs(fname,maxNumRecords=-1):\n",
    "    \n",
    "    # loop all records in the data file\n",
    "    data = []\n",
    "    n=-1\n",
    "    text = []\n",
    "\n",
    "    with open(fname, \"r\", encoding='utf-8') as f:\n",
    "        for line in f:\n",
    "            try:\n",
    "                if not line.isspace(): \n",
    "                    field = line.split()\n",
    "                    if field[0] == '#DREREFERENCE':\n",
    "                        if (n >= 0 and maxNumRecords == -1) or (n >= 0 and n < maxNumRecords and maxNumRecords > 0): \n",
    "                            data[n].append('. '.join(text))\n",
    "                            text = []\n",
    "                        n += 1\n",
    "                        if n == maxNumRecords and maxNumRecords > 0:\n",
    "                             break\n",
    "                        else:\n",
    "                            data.append([])\n",
    "                            data[n].append(field[1])\n",
    "                    if field[0].find(\"#DRE\") < 0:\n",
    "                        text.append(line.rstrip())  #append all lines without newline \\n              \n",
    "            except:\n",
    "                print(n,line)\n",
    "        \n",
    "        # append last line\n",
    "        if maxNumRecords < 0:\n",
    "            data[n].append('. '.join(text))\n",
    "                \n",
    "    print(len(data))\n",
    "    return data\n",
    "\n",
    "# converting words to ids based on pre-trained word dictionary\n",
    "def encodeDocs(docList,maxSeqLength,wordDict):\n",
    "    ids = np.zeros((len(docList), maxSeqLength), dtype='int32')\n",
    "    \n",
    "    for i in range(len(docList)):\n",
    "        try:\n",
    "            # split text to words\n",
    "            words = text_to_word_sequence(docList[i][1], filters='!\"#$%&()*+,-./:;<=>?@[\\\\]^_`{|}~\\t\\n', lower=True, split=' ')\n",
    "\n",
    "            for indexCounter,word in enumerate(words):\n",
    "                if indexCounter == maxSeqLength:\n",
    "                    break\n",
    "                try:  \n",
    "                    ids[i][indexCounter] = wordsList[word]\n",
    "                except KeyError:\n",
    "                    ids[i][indexCounter] = 1 #ID for unkown words \"UNK\"\n",
    "        except:\n",
    "            print(i,docList[i])\n",
    "            \n",
    "        #if (i + 1) % 100 == 0:\n",
    "            #print(i+1)\n",
    "\n",
    "    return ids"
   ]
  },
  {
   "cell_type": "code",
   "execution_count": 4,
   "metadata": {
    "collapsed": false
   },
   "outputs": [
    {
     "name": "stdout",
     "output_type": "stream",
     "text": [
      "22223\n",
      "22223\n"
     ]
    }
   ],
   "source": [
    "# define some parameters\n",
    "maxNunRecords = 200 # Maximum number of docs for debugging. -1 means all reords\n",
    "\n",
    "# parse data to from idx files \n",
    "data1 = parseDocs(fname2,-1)\n",
    "data2 = parseDocs(fname2,-1)"
   ]
  },
  {
   "cell_type": "code",
   "execution_count": 6,
   "metadata": {
    "collapsed": false
   },
   "outputs": [],
   "source": [
    "# encoding docs \n",
    "maxSeqLength = 250 # Maximum number of words for each document\n",
    "\n",
    "ids1 = encodeDocs(data1,maxSeqLength,wordsList)\n",
    "#np.save(\"idsMatrix_pos\", ids_p)\n",
    "ids2 = encodeDocs(data2,maxSeqLength,wordsList)"
   ]
  },
  {
   "cell_type": "code",
   "execution_count": 7,
   "metadata": {
    "collapsed": true
   },
   "outputs": [],
   "source": [
    "# load pretrained model\n",
    "from keras.models import load_model\n",
    "\n",
    "# returns a compiled model\n",
    "# identical to the previous one\n",
    "model = load_model('weights-improvement-86-0.83.hdf5')"
   ]
  },
  {
   "cell_type": "code",
   "execution_count": 7,
   "metadata": {
    "collapsed": false
   },
   "outputs": [
    {
     "name": "stdout",
     "output_type": "stream",
     "text": [
      "_________________________________________________________________\n",
      "Layer (type)                 Output Shape              Param #   \n",
      "=================================================================\n",
      "embedding_1 (Embedding)      (None, 250, 50)           2000000   \n",
      "_________________________________________________________________\n",
      "lstm_1 (LSTM)                (None, 64)                29440     \n",
      "_________________________________________________________________\n",
      "dense_1 (Dense)              (None, 2)                 130       \n",
      "=================================================================\n",
      "Total params: 2,029,570\n",
      "Trainable params: 2,029,570\n",
      "Non-trainable params: 0\n",
      "_________________________________________________________________\n"
     ]
    }
   ],
   "source": [
    "model.summary()"
   ]
  },
  {
   "cell_type": "code",
   "execution_count": 8,
   "metadata": {
    "collapsed": true
   },
   "outputs": [],
   "source": [
    "# predict sentiment scores for input text\n",
    "predictedSentiment1 = model.predict(ids1)\n",
    "predictedSentiment2 = model.predict(ids2)"
   ]
  },
  {
   "cell_type": "code",
   "execution_count": 9,
   "metadata": {
    "collapsed": false
   },
   "outputs": [
    {
     "data": {
      "image/png": "[encoded data removed]",
      "text/plain": [
       "<Figure size 432x288 with 2 Axes>"
      ]
     },
     "metadata": {
      "needs_background": "light"
     },
     "output_type": "display_data"
    }
   ],
   "source": [
    "# plot score distributions\n",
    "import matplotlib.pyplot as plt\n",
    "%matplotlib inline\n",
    "\n",
    "plt.subplot(211)\n",
    "plt.hist(predictedSentiment1[:,0], 5)\n",
    "plt.xlabel('Postive score')\n",
    "plt.ylabel('Frequency')\n",
    "plt.title('Sentiment of employees')\n",
    "\n",
    "plt.subplot(212)\n",
    "plt.hist(predictedSentiment2[:,0], 5)\n",
    "plt.xlabel('Postive score')\n",
    "plt.ylabel('Frequency')\n",
    "plt.title('Sentiment of customers')\n",
    "\n",
    "plt.show()"
   ]
  }
 ],
 "metadata": {
  "kernelspec": {
   "display_name": "Python 3",
   "language": "python",
   "name": "python3"
  },
  "language_info": {
   "codemirror_mode": {
    "name": "ipython",
    "version": 3
   },
   "file_extension": ".py",
   "mimetype": "text/x-python",
   "name": "python",
   "nbconvert_exporter": "python",
   "pygments_lexer": "ipython3",
   "version": "3.5.6"
  }
 },
 "nbformat": 4,
 "nbformat_minor": 0
}
